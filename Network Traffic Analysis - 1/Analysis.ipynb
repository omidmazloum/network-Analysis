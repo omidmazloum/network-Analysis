{
 "cells": [
  {
   "cell_type": "code",
   "execution_count": null,
   "id": "f15ea565",
   "metadata": {},
   "outputs": [
    {
     "name": "stderr",
     "output_type": "stream",
     "text": [
      "/tmp/ipykernel_221582/3176945125.py:6: DeprecationWarning: 'pkgutil.find_loader' is deprecated and slated for removal in Python 3.14; use importlib.util.find_spec() instead\n",
      "  if pkgutil.find_loader(\"pyshark\") is None:\n"
     ]
    },
    {
     "name": "stdout",
     "output_type": "stream",
     "text": [
      "Installing pyshark into the current kernel environment...\n"
     ]
    },
    {
     "name": "stderr",
     "output_type": "stream",
     "text": [
      "\u001b[1;31merror\u001b[0m: \u001b[1mexternally-managed-environment\u001b[0m\n",
      "\n",
      "\u001b[31m×\u001b[0m This environment is externally managed\n",
      "\u001b[31m╰─>\u001b[0m To install Python packages system-wide, try apt install\n",
      "\u001b[31m   \u001b[0m python3-xyz, where xyz is the package you are trying to\n",
      "\u001b[31m   \u001b[0m install.\n",
      "\u001b[31m   \u001b[0m \n",
      "\u001b[31m   \u001b[0m If you wish to install a non-Debian-packaged Python package,\n",
      "\u001b[31m   \u001b[0m create a virtual environment using python3 -m venv path/to/venv.\n",
      "\u001b[31m   \u001b[0m Then use path/to/venv/bin/python and path/to/venv/bin/pip. Make\n",
      "\u001b[31m   \u001b[0m sure you have python3-full installed.\n",
      "\u001b[31m   \u001b[0m \n",
      "\u001b[31m   \u001b[0m If you wish to install a non-Debian packaged Python application,\n",
      "\u001b[31m   \u001b[0m it may be easiest to use pipx install xyz, which will manage a\n",
      "\u001b[31m   \u001b[0m virtual environment for you. Make sure you have pipx installed.\n",
      "\u001b[31m   \u001b[0m \n",
      "\u001b[31m   \u001b[0m See /usr/share/doc/python3.12/README.venv for more information.\n",
      "\n",
      "\u001b[1;35mnote\u001b[0m: If you believe this is a mistake, please contact your Python installation or OS distribution provider. You can override this, at the risk of breaking your Python installation or OS, by passing --break-system-packages.\n",
      "\u001b[1;36mhint\u001b[0m: See PEP 668 for the detailed specification.\n",
      "\u001b[1;31merror\u001b[0m: \u001b[1mexternally-managed-environment\u001b[0m\n",
      "\n",
      "\u001b[31m×\u001b[0m This environment is externally managed\n",
      "\u001b[31m╰─>\u001b[0m To install Python packages system-wide, try apt install\n",
      "\u001b[31m   \u001b[0m python3-xyz, where xyz is the package you are trying to\n",
      "\u001b[31m   \u001b[0m install.\n",
      "\u001b[31m   \u001b[0m \n",
      "\u001b[31m   \u001b[0m If you wish to install a non-Debian-packaged Python package,\n",
      "\u001b[31m   \u001b[0m create a virtual environment using python3 -m venv path/to/venv.\n",
      "\u001b[31m   \u001b[0m Then use path/to/venv/bin/python and path/to/venv/bin/pip. Make\n",
      "\u001b[31m   \u001b[0m sure you have python3-full installed.\n",
      "\u001b[31m   \u001b[0m \n",
      "\u001b[31m   \u001b[0m If you wish to install a non-Debian packaged Python application,\n",
      "\u001b[31m   \u001b[0m it may be easiest to use pipx install xyz, which will manage a\n",
      "\u001b[31m   \u001b[0m virtual environment for you. Make sure you have pipx installed.\n",
      "\u001b[31m   \u001b[0m \n",
      "\u001b[31m   \u001b[0m See /usr/share/doc/python3.12/README.venv for more information.\n",
      "\n",
      "\u001b[1;35mnote\u001b[0m: If you believe this is a mistake, please contact your Python installation or OS distribution provider. You can override this, at the risk of breaking your Python installation or OS, by passing --break-system-packages.\n",
      "\u001b[1;36mhint\u001b[0m: See PEP 668 for the detailed specification.\n"
     ]
    },
    {
     "name": "stdout",
     "output_type": "stream",
     "text": [
      "Defaulting to user installation because normal site-packages is not writeable\n",
      "Collecting pyshark==0.6\n",
      "  Using cached pyshark-0.6-py3-none-any.whl.metadata (806 bytes)\n",
      "Requirement already satisfied: lxml in /usr/lib/python3/dist-packages (from pyshark==0.6) (5.2.1)\n",
      "Collecting termcolor (from pyshark==0.6)\n",
      "  Using cached termcolor-3.1.0-py3-none-any.whl.metadata (6.4 kB)\n",
      "Requirement already satisfied: packaging in /usr/lib/python3/dist-packages (from pyshark==0.6) (24.0)\n",
      "Requirement already satisfied: appdirs in /usr/lib/python3/dist-packages (from pyshark==0.6) (1.4.4)\n",
      "Using cached pyshark-0.6-py3-none-any.whl (41 kB)\n",
      "Using cached termcolor-3.1.0-py3-none-any.whl (7.7 kB)\n"
     ]
    }
   ],
   "source": [
    "import os, sys, subprocess, pkgutil\n",
    "\n",
    "PROJECT_VENV_PY = \"/home/omid/Documents/Programming/network-Analysis/Network Traffic Analysis - 1/Traffic/bin/python\"\n",
    "\n",
    "# Ensure pyshark is available in the current kernel, handling PEP 668 (externally-managed) gracefully\n",
    "if pkgutil.find_loader(\"pyshark\") is None:\n",
    "    print(\"Installing pyshark into the current kernel environment...\")\n",
    "    cmds = [\n",
    "        [sys.executable, \"-m\", \"pip\", \"install\", \"pyshark==0.6\"],\n",
    "        [sys.executable, \"-m\", \"pip\", \"install\", \"--user\", \"pyshark==0.6\"],\n",
    "        [sys.executable, \"-m\", \"pip\", \"install\", \"--break-system-packages\", \"pyshark==0.6\"],\n",
    "    ]\n",
    "    last_err = None\n",
    "    for cmd in cmds:\n",
    "        try:\n",
    "            subprocess.check_call(cmd)\n",
    "            print(\"pyshark installed successfully.\")\n",
    "            break\n",
    "        except subprocess.CalledProcessError as e:\n",
    "            last_err = e\n",
    "    else:\n",
    "        print(\"Failed to install pyshark in this kernel.\")\n",
    "        print(\"Recommended: switch to the project's virtualenv kernel and install there:\")\n",
    "        print(f\"  - Kernel Python: {PROJECT_VENV_PY}\")\n",
    "        print(\"  - To register it as a Jupyter kernel, run in a terminal:\")\n",
    "        print(f\"    {PROJECT_VENV_PY} -m pip install ipykernel && \\\\\")\n",
    "        print(f\"    {PROJECT_VENV_PY} -m ipykernel install --user --name network-traffic-venv --display-name 'Python (network-traffic-venv)'\")\n",
    "        raise last_err\n",
    "else:\n",
    "    print(\"pyshark already installed.\")\n",
    "\n",
    "# Tip: pyshark requires the system package 'tshark' to parse packets.\n",
    "# If you haven't installed it yet on Ubuntu/Debian:\n",
    "#   sudo apt-get update && sudo apt-get install -y tshark\n",
    "# Then restart the kernel if needed.\n",
    "\n"
   ]
  },
  {
   "cell_type": "code",
   "execution_count": 5,
   "id": "551f7c24",
   "metadata": {},
   "outputs": [
    {
     "ename": "ModuleNotFoundError",
     "evalue": "No module named 'pyshark'",
     "output_type": "error",
     "traceback": [
      "\u001b[0;31m---------------------------------------------------------------------------\u001b[0m",
      "\u001b[0;31mModuleNotFoundError\u001b[0m                       Traceback (most recent call last)",
      "Cell \u001b[0;32mIn[5], line 5\u001b[0m\n\u001b[1;32m      3\u001b[0m \u001b[38;5;28;01mimport\u001b[39;00m \u001b[38;5;21;01mmatplotlib\u001b[39;00m\u001b[38;5;21;01m.\u001b[39;00m\u001b[38;5;21;01mpyplot\u001b[39;00m \u001b[38;5;28;01mas\u001b[39;00m \u001b[38;5;21;01mplt\u001b[39;00m \n\u001b[1;32m      4\u001b[0m \u001b[38;5;28;01mimport\u001b[39;00m \u001b[38;5;21;01mseaborn\u001b[39;00m \u001b[38;5;28;01mas\u001b[39;00m \u001b[38;5;21;01msns\u001b[39;00m \n\u001b[0;32m----> 5\u001b[0m \u001b[38;5;28;01mimport\u001b[39;00m \u001b[38;5;21;01mpyshark\u001b[39;00m  \n",
      "\u001b[0;31mModuleNotFoundError\u001b[0m: No module named 'pyshark'"
     ]
    }
   ],
   "source": [
    "import pandas as pd \n",
    "import numpy as np \n",
    "import matplotlib.pyplot as plt \n",
    "import seaborn as sns \n",
    "import pyshark  "
   ]
  },
  {
   "cell_type": "code",
   "execution_count": null,
   "id": "0e9f5bca",
   "metadata": {},
   "outputs": [],
   "source": [
    "Data = pd.read_csv(\"./Data1.pcap\")"
   ]
  }
 ],
 "metadata": {
  "kernelspec": {
   "display_name": "Python 3",
   "language": "python",
   "name": "python3"
  },
  "language_info": {
   "codemirror_mode": {
    "name": "ipython",
    "version": 3
   },
   "file_extension": ".py",
   "mimetype": "text/x-python",
   "name": "python",
   "nbconvert_exporter": "python",
   "pygments_lexer": "ipython3",
   "version": "3.12.3"
  }
 },
 "nbformat": 4,
 "nbformat_minor": 5
}
